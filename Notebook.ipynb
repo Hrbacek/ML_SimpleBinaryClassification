{
 "cells": [
  {
   "cell_type": "code",
   "execution_count": 3,
   "id": "9e82ac93",
   "metadata": {},
   "outputs": [],
   "source": [
    "using DataFrames\n",
    "using CSV"
   ]
  },
  {
   "cell_type": "markdown",
   "id": "82347575",
   "metadata": {},
   "source": [
    "The Sonar Dataset involves the prediction of whether or not an object is a mine or a rock given the\n",
    "strength of sonar returns at different angles. It is a binary (2-class) classification problem. The\n",
    "number of observations for each class is not balanced. There are 208 observations with 60 input\n",
    "variables and 1 output variable.\n",
    "\n",
    "The file \"sonar.mines\" contains 111 patterns obtained by bouncing sonar\n",
    "signals off a metal cylinder at various angles and under various\n",
    "conditions.  The file \"sonar.rocks\" contains 97 patterns obtained from\n",
    "rocks under similar conditions.  The transmitted sonar signal is a\n",
    "frequency-modulated chirp, rising in frequency.  The data set contains\n",
    "signals obtained from a variety of different aspect angles, spanning 90\n",
    "degrees for the cylinder and 180 degrees for the rock."
   ]
  },
  {
   "cell_type": "code",
   "execution_count": null,
   "id": "a6e6224a",
   "metadata": {},
   "outputs": [],
   "source": [
    "sonar = CSV.read(\"Data/sonar.csv\",DataFrame)\n",
    "print(sonar)"
   ]
  },
  {
   "cell_type": "markdown",
   "id": "d36f2a55",
   "metadata": {},
   "source": [
    "# Ejercicio 1\n",
    "Determinar tamaño de sets de prueba y testeo, crear datos sinteticos con SMOTE para parchear el imbalance en los datos."
   ]
  },
  {
   "cell_type": "markdown",
   "id": "f0d77a94",
   "metadata": {},
   "source": [
    "# Ejercicio 2\n",
    "\n",
    "Determinar función-metrica de desempeño"
   ]
  },
  {
   "cell_type": "markdown",
   "id": "44bb0c24",
   "metadata": {},
   "source": [
    "# Ejercicio 3\n",
    "\n",
    "Aplicar regresión lineal, logística, SVM, KNN y Arboles de desición (Usar libreria MLJ) "
   ]
  },
  {
   "cell_type": "markdown",
   "id": "098dd5ef",
   "metadata": {},
   "source": [
    "# Ejercicio 4\n",
    "\n",
    "Evaluar el algoritmo con mejor metrica de desempeño"
   ]
  },
  {
   "cell_type": "markdown",
   "id": "5be0db70",
   "metadata": {},
   "source": [
    "# Ejercicio 5\n",
    "\n",
    "Usar el set de testeo con el mejor algoritmo"
   ]
  },
  {
   "cell_type": "code",
   "execution_count": null,
   "id": "6f39ce47",
   "metadata": {},
   "outputs": [],
   "source": []
  }
 ],
 "metadata": {
  "kernelspec": {
   "display_name": "Julia 1.7.2",
   "language": "julia",
   "name": "julia-1.7"
  },
  "language_info": {
   "file_extension": ".jl",
   "mimetype": "application/julia",
   "name": "julia",
   "version": "1.7.2"
  }
 },
 "nbformat": 4,
 "nbformat_minor": 5
}
